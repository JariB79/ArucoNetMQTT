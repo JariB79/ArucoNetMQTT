{
 "cells": [
  {
   "cell_type": "code",
   "id": "d139a476",
   "metadata": {
    "ExecuteTime": {
     "end_time": "2025-05-29T16:27:16.528278Z",
     "start_time": "2025-05-29T16:27:16.283988Z"
    }
   },
   "source": [
    "import cv2\n",
    "import cv2.aruco as aruco\n",
    "import os"
   ],
   "outputs": [],
   "execution_count": 3
  },
  {
   "cell_type": "code",
   "id": "58579590",
   "metadata": {
    "ExecuteTime": {
     "end_time": "2025-05-29T16:27:18.351230Z",
     "start_time": "2025-05-29T16:27:18.339570Z"
    }
   },
   "source": [
    "# Select dictionary, e.g., 6x6 with 250 markers\n",
    "aruco_dict = aruco.getPredefinedDictionary(cv2.aruco.DICT_6X6_250)"
   ],
   "outputs": [],
   "execution_count": 4
  },
  {
   "cell_type": "code",
   "id": "808801b5",
   "metadata": {
    "ExecuteTime": {
     "end_time": "2025-05-29T16:27:20.422224Z",
     "start_time": "2025-05-29T16:27:20.413445Z"
    }
   },
   "source": [
    "print(aruco_dict)"
   ],
   "outputs": [
    {
     "name": "stdout",
     "output_type": "stream",
     "text": [
      "< cv2.aruco.Dictionary 00000230207D02B0>\n"
     ]
    }
   ],
   "execution_count": 5
  },
  {
   "cell_type": "code",
   "id": "ad88215f",
   "metadata": {
    "ExecuteTime": {
     "end_time": "2025-05-29T16:29:35.669075Z",
     "start_time": "2025-05-29T16:29:35.587351Z"
    }
   },
   "source": [
    "# ID of the marker to generate (between 0 and 249 for DICT_6X6_250)\n",
    "marker_id_low = 0\n",
    "marker_id_high = 10\n",
    "\n",
    "# Marker size in pixels\n",
    "marker_size = 200  \n"
   ],
   "outputs": [],
   "execution_count": 11
  },
  {
   "cell_type": "code",
   "id": "1938afb9",
   "metadata": {
    "ExecuteTime": {
     "end_time": "2025-05-29T16:29:37.578335Z",
     "start_time": "2025-05-29T16:29:37.567311Z"
    }
   },
   "source": [
    "os.makedirs(\"Markers\")\n",
    "\n",
    "for id in range(marker_id_low, marker_id_high):\n",
    "    # Create marker image\n",
    "    marker_img = aruco.generateImageMarker(aruco_dict, id, marker_size)\n",
    "\n",
    "    # Save to file\n",
    "    cv2.imwrite(f\"Markers/aruco_marker_{id}.png\", marker_img)\n"
   ],
   "outputs": [],
   "execution_count": 12
  },
  {
   "metadata": {
    "ExecuteTime": {
     "end_time": "2025-04-24T10:09:52.647162Z",
     "start_time": "2025-04-24T10:09:52.635446Z"
    }
   },
   "cell_type": "code",
   "source": "marker_img",
   "id": "5e8b00a3909c2b39",
   "outputs": [
    {
     "data": {
      "text/plain": [
       "array([[0, 0, 0, ..., 0, 0, 0],\n",
       "       [0, 0, 0, ..., 0, 0, 0],\n",
       "       [0, 0, 0, ..., 0, 0, 0],\n",
       "       ...,\n",
       "       [0, 0, 0, ..., 0, 0, 0],\n",
       "       [0, 0, 0, ..., 0, 0, 0],\n",
       "       [0, 0, 0, ..., 0, 0, 0]], dtype=uint8)"
      ]
     },
     "execution_count": 8,
     "metadata": {},
     "output_type": "execute_result"
    }
   ],
   "execution_count": 8
  },
  {
   "metadata": {
    "ExecuteTime": {
     "end_time": "2025-04-24T10:09:03.507479Z",
     "start_time": "2025-04-24T10:09:03.493885Z"
    }
   },
   "cell_type": "code",
   "source": "",
   "id": "15e46afdeaf2b8c8",
   "outputs": [],
   "execution_count": null
  }
 ],
 "metadata": {
  "kernelspec": {
   "display_name": "realtime-project",
   "language": "python",
   "name": "python3"
  },
  "language_info": {
   "codemirror_mode": {
    "name": "ipython",
    "version": 3
   },
   "file_extension": ".py",
   "mimetype": "text/x-python",
   "name": "python",
   "nbconvert_exporter": "python",
   "pygments_lexer": "ipython3",
   "version": "3.13.2"
  }
 },
 "nbformat": 4,
 "nbformat_minor": 5
}
